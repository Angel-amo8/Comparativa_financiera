{
 "cells": [
  {
   "cell_type": "markdown",
   "id": "c7bbf2f6-7a7d-4f2d-a1cb-3847b09e2ff8",
   "metadata": {},
   "source": [
    "### VAMOS A PONER EN CONTEXTO A NUESTROS PERSONAJES FICTICIOS\n",
    "#### 1. Ana - Diseñadora por cuenta propia con ingresos variables\n",
    "#### 2. Luis - Empleado fijo por cuenta ajena con gastos constantes\n",
    "#### 3. Carlos - Emprendedor con metas de ahorro agresivas"
   ]
  },
  {
   "cell_type": "code",
   "execution_count": 2,
   "id": "308f957d-0eb7-4ec6-9385-fd3331a30279",
   "metadata": {},
   "outputs": [],
   "source": [
    "personas = [\n",
    "    {\n",
    "        \"nombre\": \"Ana\",\n",
    "        \"ingresos\": [2800, 3700, 1200],\n",
    "        \"gastos\": {\n",
    "            \"necesidades\": [1200, 1250, 1300],\n",
    "            \"deseos\": [600, 650, 620],\n",
    "            \"ahorro_real\": [700, 800, 680]\n",
    "        }\n",
    "    },\n",
    "    {\n",
    "        \"nombre\": \"Luis\",\n",
    "        \"ingresos\": [2000, 2000, 2000],\n",
    "        \"gastos\": {\n",
    "            \"necesidades\": [1000, 1050, 1220],\n",
    "            \"deseos\": [900, 650, 880],\n",
    "            \"ahorro_real\": [90, 100, 100]\n",
    "        }\n",
    "    },\n",
    "    {\n",
    "        \"nombre\": \"Carlos\",\n",
    "        \"ingresos\": [1900, 1800, 1950],\n",
    "        \"gastos\": {\n",
    "            \"necesidades\": [1000, 1100, 950],\n",
    "            \"deseos\": [800, 850, 900],\n",
    "            \"ahorro_real\": [1100, 550, 1150]\n",
    "        }\n",
    "    }\n",
    "]"
   ]
  },
  {
   "cell_type": "markdown",
   "id": "b294987d-21ea-48c6-93f7-0c7d9099266d",
   "metadata": {},
   "source": [
    "### CALCULAMOS PROMEDIOS Y PRESUPUESTO IDEAL"
   ]
  },
  {
   "cell_type": "code",
   "execution_count": 4,
   "id": "5d6c418c-b1c2-4c51-b3ef-c9021d485404",
   "metadata": {},
   "outputs": [],
   "source": [
    "def calcular_promedio(persona):\n",
    "    ingreso_promedio = sum(persona[\"ingresos\"]) / len(persona[\"ingresos\"])\n",
    "    gastos = persona[\"gastos\"]\n",
    "    necesidades = sum(gastos[\"necesidades\"]) / len(gastos[\"necesidades\"])\n",
    "    deseos = sum(gastos[\"deseos\"]) / len(gastos[\"deseos\"])\n",
    "    ahorro = sum(gastos[\"ahorro_real\"]) / len(gastos[\"ahorro_real\"])\n",
    "    return ingreso_promedio, necesidades, deseos, ahorro\n",
    "\n",
    "def presupuesto_ideal(ingreso):\n",
    "    return ingreso * 0.5, ingreso * 0.3, ingreso * 0.2"
   ]
  },
  {
   "cell_type": "markdown",
   "id": "38bcf4c4-a530-4125-b086-bbe3a53f4297",
   "metadata": {},
   "source": [
    "#### MOSTRAMOS COMPARATIVA POR PERSONA"
   ]
  },
  {
   "cell_type": "code",
   "execution_count": 6,
   "id": "c7004e0d-15af-49a5-952a-1e252f962970",
   "metadata": {},
   "outputs": [],
   "source": [
    "def imprimir_resumen(persona):\n",
    "    nombre = persona[\"nombre\"]\n",
    "    ingreso, necesidades_real, deseos_real, ahorro_real = calcular_promedio(persona)\n",
    "    necesidades_ideal, deseos_ideal, ahorro_ideal = presupuesto_ideal(ingreso)\n",
    "    \n",
    "    print(f\"\\n📋 {nombre.upper()}\")\n",
    "    print(f\"Ingreso mensual promedio: €{ingreso:.2f}\")\n",
    "    print(\"  - Necesidades: Real = €{:.2f} | Ideal = €{:.2f}\".format(necesidades_real, necesidades_ideal))\n",
    "    print(\"  - Deseos:      Real = €{:.2f} | Ideal = €{:.2f}\".format(deseos_real, deseos_ideal))\n",
    "    print(\"  - Ahorro:      Real = €{:.2f} | Ideal = €{:.2f}\".format(ahorro_real, ahorro_ideal))\n",
    "    \n",
    "    if ahorro_real >= ahorro_ideal:\n",
    "        print(\"Ahorro en acorde con lo ideal.\")\n",
    "    else:\n",
    "        print(\"Ahorro por debajo de lo recomendado.\")"
   ]
  },
  {
   "cell_type": "markdown",
   "id": "66862722-d129-4935-8715-3c68c204321b",
   "metadata": {},
   "source": [
    "#### EJECUTAMOS LA COMPARATIVA"
   ]
  },
  {
   "cell_type": "code",
   "execution_count": 8,
   "id": "8f724964-9565-437d-893d-ec64980c9f71",
   "metadata": {},
   "outputs": [],
   "source": [
    "def main():\n",
    "    print(\"Comparativa Financiera entre personas \\n\")\n",
    "    for persona in personas:\n",
    "        imprimir_resumen(persona)"
   ]
  },
  {
   "cell_type": "markdown",
   "id": "08146ee2-0a70-4174-9630-6fd146a62929",
   "metadata": {},
   "source": [
    "#### POR ÚLTIMO EJECUTAMOS EL SCRIPT"
   ]
  },
  {
   "cell_type": "code",
   "execution_count": 10,
   "id": "fdb9e02b-d4ae-4eb9-b018-d560c93938b1",
   "metadata": {
    "scrolled": true
   },
   "outputs": [
    {
     "name": "stdout",
     "output_type": "stream",
     "text": [
      "Comparativa Financiera entre personas \n",
      "\n",
      "\n",
      "📋 ANA\n",
      "Ingreso mensual promedio: €2566.67\n",
      "  - Necesidades: Real = €1250.00 | Ideal = €1283.33\n",
      "  - Deseos:      Real = €623.33 | Ideal = €770.00\n",
      "  - Ahorro:      Real = €726.67 | Ideal = €513.33\n",
      "Ahorro en acorde con lo ideal.\n",
      "\n",
      "📋 LUIS\n",
      "Ingreso mensual promedio: €2000.00\n",
      "  - Necesidades: Real = €1090.00 | Ideal = €1000.00\n",
      "  - Deseos:      Real = €810.00 | Ideal = €600.00\n",
      "  - Ahorro:      Real = €96.67 | Ideal = €400.00\n",
      "Ahorro por debajo de lo recomendado.\n",
      "\n",
      "📋 CARLOS\n",
      "Ingreso mensual promedio: €1883.33\n",
      "  - Necesidades: Real = €1016.67 | Ideal = €941.67\n",
      "  - Deseos:      Real = €850.00 | Ideal = €565.00\n",
      "  - Ahorro:      Real = €933.33 | Ideal = €376.67\n",
      "Ahorro en acorde con lo ideal.\n"
     ]
    }
   ],
   "source": [
    "if __name__ == \"__main__\":\n",
    "    main()"
   ]
  },
  {
   "cell_type": "markdown",
   "id": "56ea3012-4f06-463f-a109-2ddec50f56f8",
   "metadata": {},
   "source": [
    "### INSIGHTS FINALES\n",
    "#### 1. Ana - Diseñadora freelance con ingresos variables:\n",
    "##### En "
   ]
  },
  {
   "cell_type": "code",
   "execution_count": null,
   "id": "90e157fd-547d-414a-ae56-06dba18341e7",
   "metadata": {},
   "outputs": [],
   "source": []
  }
 ],
 "metadata": {
  "kernelspec": {
   "display_name": "Python [conda env:base] *",
   "language": "python",
   "name": "conda-base-py"
  },
  "language_info": {
   "codemirror_mode": {
    "name": "ipython",
    "version": 3
   },
   "file_extension": ".py",
   "mimetype": "text/x-python",
   "name": "python",
   "nbconvert_exporter": "python",
   "pygments_lexer": "ipython3",
   "version": "3.12.7"
  }
 },
 "nbformat": 4,
 "nbformat_minor": 5
}
